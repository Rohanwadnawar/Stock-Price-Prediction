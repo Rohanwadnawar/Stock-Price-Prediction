{
 "cells": [
  {
   "cell_type": "code",
   "execution_count": 11,
   "id": "a04762d2",
   "metadata": {},
   "outputs": [],
   "source": [
    "import pandas as pd\n",
    "import numpy as np\n",
    "import pandas_datareader as pdr\n",
    "import yfinance as yf\n",
    "from yahoofinancials import YahooFinancials"
   ]
  },
  {
   "cell_type": "code",
   "execution_count": 20,
   "id": "de75322f",
   "metadata": {},
   "outputs": [],
   "source": [
    "data = yf.download('TSLA', \n",
    "                      start='2020-01-01', \n",
    "                      end='2023-05-01', \n",
    "                      progress=False,\n",
    ")"
   ]
  },
  {
   "cell_type": "code",
   "execution_count": 22,
   "id": "09fb7917",
   "metadata": {},
   "outputs": [
    {
     "data": {
      "text/html": [
       "<div>\n",
       "<style scoped>\n",
       "    .dataframe tbody tr th:only-of-type {\n",
       "        vertical-align: middle;\n",
       "    }\n",
       "\n",
       "    .dataframe tbody tr th {\n",
       "        vertical-align: top;\n",
       "    }\n",
       "\n",
       "    .dataframe thead th {\n",
       "        text-align: right;\n",
       "    }\n",
       "</style>\n",
       "<table border=\"1\" class=\"dataframe\">\n",
       "  <thead>\n",
       "    <tr style=\"text-align: right;\">\n",
       "      <th></th>\n",
       "      <th>Open</th>\n",
       "      <th>High</th>\n",
       "      <th>Low</th>\n",
       "      <th>Close</th>\n",
       "      <th>Adj Close</th>\n",
       "      <th>Volume</th>\n",
       "    </tr>\n",
       "    <tr>\n",
       "      <th>Date</th>\n",
       "      <th></th>\n",
       "      <th></th>\n",
       "      <th></th>\n",
       "      <th></th>\n",
       "      <th></th>\n",
       "      <th></th>\n",
       "    </tr>\n",
       "  </thead>\n",
       "  <tbody>\n",
       "    <tr>\n",
       "      <th>2023-04-24</th>\n",
       "      <td>164.649994</td>\n",
       "      <td>165.649994</td>\n",
       "      <td>158.610001</td>\n",
       "      <td>162.550003</td>\n",
       "      <td>162.550003</td>\n",
       "      <td>140006600</td>\n",
       "    </tr>\n",
       "    <tr>\n",
       "      <th>2023-04-25</th>\n",
       "      <td>159.820007</td>\n",
       "      <td>163.470001</td>\n",
       "      <td>158.750000</td>\n",
       "      <td>160.669998</td>\n",
       "      <td>160.669998</td>\n",
       "      <td>121999300</td>\n",
       "    </tr>\n",
       "    <tr>\n",
       "      <th>2023-04-26</th>\n",
       "      <td>160.289993</td>\n",
       "      <td>160.669998</td>\n",
       "      <td>153.139999</td>\n",
       "      <td>153.750000</td>\n",
       "      <td>153.750000</td>\n",
       "      <td>153364100</td>\n",
       "    </tr>\n",
       "    <tr>\n",
       "      <th>2023-04-27</th>\n",
       "      <td>152.639999</td>\n",
       "      <td>160.479996</td>\n",
       "      <td>152.369995</td>\n",
       "      <td>160.190002</td>\n",
       "      <td>160.190002</td>\n",
       "      <td>127015200</td>\n",
       "    </tr>\n",
       "    <tr>\n",
       "      <th>2023-04-28</th>\n",
       "      <td>160.899994</td>\n",
       "      <td>165.000000</td>\n",
       "      <td>157.320007</td>\n",
       "      <td>164.309998</td>\n",
       "      <td>164.309998</td>\n",
       "      <td>122351000</td>\n",
       "    </tr>\n",
       "  </tbody>\n",
       "</table>\n",
       "</div>"
      ],
      "text/plain": [
       "                  Open        High         Low       Close   Adj Close  \\\n",
       "Date                                                                     \n",
       "2023-04-24  164.649994  165.649994  158.610001  162.550003  162.550003   \n",
       "2023-04-25  159.820007  163.470001  158.750000  160.669998  160.669998   \n",
       "2023-04-26  160.289993  160.669998  153.139999  153.750000  153.750000   \n",
       "2023-04-27  152.639999  160.479996  152.369995  160.190002  160.190002   \n",
       "2023-04-28  160.899994  165.000000  157.320007  164.309998  164.309998   \n",
       "\n",
       "               Volume  \n",
       "Date                   \n",
       "2023-04-24  140006600  \n",
       "2023-04-25  121999300  \n",
       "2023-04-26  153364100  \n",
       "2023-04-27  127015200  \n",
       "2023-04-28  122351000  "
      ]
     },
     "execution_count": 22,
     "metadata": {},
     "output_type": "execute_result"
    }
   ],
   "source": [
    "data.tail()"
   ]
  },
  {
   "cell_type": "code",
   "execution_count": null,
   "id": "ab0eda1f",
   "metadata": {},
   "outputs": [],
   "source": []
  }
 ],
 "metadata": {
  "kernelspec": {
   "display_name": "Python 3 (ipykernel)",
   "language": "python",
   "name": "python3"
  },
  "language_info": {
   "codemirror_mode": {
    "name": "ipython",
    "version": 3
   },
   "file_extension": ".py",
   "mimetype": "text/x-python",
   "name": "python",
   "nbconvert_exporter": "python",
   "pygments_lexer": "ipython3",
   "version": "3.10.9"
  }
 },
 "nbformat": 4,
 "nbformat_minor": 5
}
